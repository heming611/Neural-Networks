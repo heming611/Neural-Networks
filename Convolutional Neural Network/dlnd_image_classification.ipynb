{
 "cells": [
  {
   "cell_type": "markdown",
   "metadata": {
    "collapsed": true
   },
   "source": [
    "# Image Classification\n",
    "In this project, you'll classify images from the [CIFAR-10 dataset](https://www.cs.toronto.edu/~kriz/cifar.html).  The dataset consists of airplanes, dogs, cats, and other objects. You'll preprocess (precook) the images, then train a convolutional neural network (CNN) for prediction. The images need to be normalized and the labels need to be one-hot encoded.  You will build a convolutional, max pooling, dropout, and fully connected layers.  At the end, you'll get to see your neural network's predictions on the sample images.\n",
    "## Get the Data\n",
    "Run the following cell to download the [CIFAR-10 dataset for python](https://www.cs.toronto.edu/~kriz/cifar-10-python.tar.gz)."
   ]
  },
  {
   "cell_type": "code",
   "execution_count": 3,
   "metadata": {},
   "outputs": [
    {
     "name": "stdout",
     "output_type": "stream",
     "text": [
      "All files found!\n"
     ]
    }
   ],
   "source": [
    "\"\"\"\n",
    "DON'T MODIFY ANYTHING IN THIS CELL THAT IS BELOW THIS LINE\n",
    "\"\"\"\n",
    "from urllib.request import urlretrieve\n",
    "from os.path import isfile, isdir\n",
    "from tqdm import tqdm\n",
    "import problem_unittests as tests\n",
    "import tarfile\n",
    "\n",
    "cifar10_dataset_folder_path = 'cifar-10-batches-py'\n",
    "\n",
    "# Use Floyd's cifar-10 dataset if present\n",
    "floyd_cifar10_location = '/input/cifar-10/python.tar.gz'\n",
    "if isfile(floyd_cifar10_location):\n",
    "    tar_gz_path = floyd_cifar10_location\n",
    "else:\n",
    "    tar_gz_path = 'cifar-10-python.tar.gz'\n",
    "\n",
    "class DLProgress(tqdm):\n",
    "    last_block = 0\n",
    "\n",
    "    def hook(self, block_num=1, block_size=1, total_size=None):\n",
    "        self.total = total_size\n",
    "        self.update((block_num - self.last_block) * block_size)\n",
    "        self.last_block = block_num\n",
    "\n",
    "if not isfile(tar_gz_path):\n",
    "    with DLProgress(unit='B', unit_scale=True, miniters=1, desc='CIFAR-10 Dataset') as pbar:\n",
    "        urlretrieve(\n",
    "            'https://www.cs.toronto.edu/~kriz/cifar-10-python.tar.gz',\n",
    "            tar_gz_path,\n",
    "            pbar.hook)\n",
    "\n",
    "if not isdir(cifar10_dataset_folder_path):\n",
    "    with tarfile.open(tar_gz_path) as tar:\n",
    "        tar.extractall()\n",
    "        tar.close()\n",
    "\n",
    "tests.test_folder_path(cifar10_dataset_folder_path)"
   ]
  },
  {
   "cell_type": "markdown",
   "metadata": {},
   "source": [
    "## Explore the Data\n",
    "The dataset is broken into batches to prevent your machine from running out of memory. It consists of 5 batches, named `data_batch_i`, i=1,...,5. Each batch contains the labels and images that are one of the following:\n",
    "* airplane, automobile, bird, cat, deer, dog, frog, horse, ship, truck\n",
    "\n",
    "Understanding a dataset is part of making predictions on the data.  Play around with the code cell below by changing the `batch_id` and `sample_id`. The `batch_id` is the id for a batch (1-5). The `sample_id` is the id for a image and label pair in the batch.\n",
    "\n",
    "Ask yourself \"What are all possible labels?\", \"What is the range of values for the image data?\", \"Are the labels in order or random?\".  Answers to questions like these will help you preprocess the data and end up with better predictions."
   ]
  },
  {
   "cell_type": "code",
   "execution_count": 5,
   "metadata": {
    "scrolled": true
   },
   "outputs": [
    {
     "name": "stdout",
     "output_type": "stream",
     "text": [
      "\n",
      "Stats of batch 1:\n",
      "Examples: 10000\n",
      "Label Counts: {0: 1005, 1: 974, 2: 1032, 3: 1016, 4: 999, 5: 937, 6: 1030, 7: 1001, 8: 1025, 9: 981}\n",
      "First 20 Labels: [6, 9, 9, 4, 1, 1, 2, 7, 8, 3, 4, 7, 7, 2, 9, 9, 9, 3, 2, 6]\n",
      "\n",
      "Example of Image 61:\n",
      "Image - Min Value: 0 Max Value: 248\n",
      "Image - Shape: (32, 32, 3)\n",
      "Label - Label Id: 1 Name: automobile\n"
     ]
    },
    {
     "data": {
      "image/png": "[encoded data removed]",
      "text/plain": [
       "<matplotlib.figure.Figure at 0x23f173bddd8>"
      ]
     },
     "metadata": {
      "image/png": {
       "height": 250,
       "width": 253
      }
     },
     "output_type": "display_data"
    }
   ],
   "source": [
    "%matplotlib inline\n",
    "%config InlineBackend.figure_format = 'retina'\n",
    "\n",
    "import helper\n",
    "import numpy as np\n",
    "\n",
    "# Explore the dataset\n",
    "batch_id = 1; sample_id = 61\n",
    "helper.display_stats(cifar10_dataset_folder_path, batch_id, sample_id)\n",
    "#The 1st argument in the above function is the path, this view of function is general.\n",
    "#Write a helper py file under the same folder as the ipynb file, and then import it to simplify the ipynb code."
   ]
  },
  {
   "cell_type": "markdown",
   "metadata": {},
   "source": [
    "* By pixels and color channels, we have precise $\\textit{numerical representation}$ of an image. In NPL, this is not so easy. On the one hand, one-hot encoding is not a good representation since it discards information on the distance between words. Word2vec is one way of $\\textit{numerical representation}$ but still has a long way to go in terms of testing error."
   ]
  },
  {
   "cell_type": "markdown",
   "metadata": {},
   "source": [
    "## Implement Preprocess Functions\n",
    "### Normalize\n",
    "In the cell below, implement the `normalize` function to take in image data, `x`, and return it as a normalized Numpy array. The values should be in the range of 0 to 1, inclusive.  The return object should be the same shape as `x`."
   ]
  },
  {
   "cell_type": "code",
   "execution_count": 6,
   "metadata": {},
   "outputs": [
    {
     "name": "stdout",
     "output_type": "stream",
     "text": [
      "Tests Passed\n"
     ]
    }
   ],
   "source": [
    "##Each training example includes a 32x32x3 volume of numbers and a value of label. It does not hurt to normalize the \n",
    "#information or signal, since these measures are human-defined in the 1st place. This step buys us numerical stability.\n",
    "def normalize(x):\n",
    "    \"\"\"\n",
    "    Normalize a list of sample image data in the range of 0 to 1\n",
    "    x: List of image data.  The image shape is (32, 32, 3), each cell is a value between 0 and 255\n",
    "    return: Numpy array of normalized data\n",
    "    \"\"\"\n",
    "    output = x/255 #Alternatively, we can also normalize it to be between -1/2 and 1/2 by x-128/255\n",
    "    return output\n",
    "\n",
    "tests.test_normalize(normalize)"
   ]
  },
  {
   "cell_type": "markdown",
   "metadata": {},
   "source": [
    "* From the above test, the input of a function $G$ can be a function $f$. A closer look at the function 'test_normalize' in the file problem_unittests.py reveals that $f$ is used with an input $x$, so we get $f(x)$."
   ]
  },
  {
   "cell_type": "markdown",
   "metadata": {},
   "source": [
    "### One-hot encode\n",
    "Implement the `one_hot_encode` function."
   ]
  },
  {
   "cell_type": "code",
   "execution_count": 12,
   "metadata": {},
   "outputs": [
    {
     "name": "stdout",
     "output_type": "stream",
     "text": [
      "Tests Passed\n"
     ]
    }
   ],
   "source": [
    "one_hot_encode_map = np.eye(10)\n",
    "def one_hot_encode(x):\n",
    "    \"\"\"\n",
    "    One hot encode a list of sample labels. Return a one-hot encoded vector for each label.\n",
    "    x: List of sample Labels, the possible values for labels are 0 to 9\n",
    "    return: Numpy array of one-hot encoded labels\n",
    "    \"\"\"\n",
    "    output = one_hot_encode_map[x]\n",
    "    return output\n",
    "\n",
    "tests.test_one_hot_encode(one_hot_encode)"
   ]
  },
  {
   "cell_type": "markdown",
   "metadata": {},
   "source": [
    "### Randomize Data\n",
    "As you saw from exploring the data above, the order of the samples are randomized.  It doesn't hurt to randomize it again, but you don't need to for this dataset."
   ]
  },
  {
   "cell_type": "markdown",
   "metadata": {},
   "source": [
    "## Preprocess all the data and save it\n",
    "Running the code cell below will preprocess all the CIFAR-10 data and save it to file. The code below also uses 10% of the training data for validation."
   ]
  },
  {
   "cell_type": "code",
   "execution_count": 21,
   "metadata": {
    "collapsed": true
   },
   "outputs": [],
   "source": [
    "\"\"\"\n",
    "DON'T MODIFY ANYTHING IN THIS CELL\n",
    "\"\"\"\n",
    "# Preprocess Training, Validation, and Testing Data\n",
    "helper.preprocess_and_save_data(cifar10_dataset_folder_path, normalize, one_hot_encode)"
   ]
  },
  {
   "cell_type": "markdown",
   "metadata": {},
   "source": [
    "# Check Point\n",
    "This is your first checkpoint.  If you ever decide to come back to this notebook or have to restart the notebook, you can start from here.  The preprocessed data has been saved to disk."
   ]
  },
  {
   "cell_type": "code",
   "execution_count": 19,
   "metadata": {
    "collapsed": true
   },
   "outputs": [],
   "source": [
    "\"\"\"\n",
    "DON'T MODIFY ANYTHING IN THIS CELL\n",
    "\"\"\"\n",
    "import pickle, helper\n",
    "\n",
    "# Load the Preprocessed Validation data\n",
    "valid_features, valid_labels = pickle.load(open('preprocess_validation.p', mode='rb'))\n",
    "#valid_features is a (5000,32,32,3) tensor, and this 3 dimensional features for each example massage my brain.\n",
    "#valid_labels is of dimension (5000,10)"
   ]
  },
  {
   "cell_type": "markdown",
   "metadata": {},
   "source": [
    "## Build the network\n",
    "For the neural network, you'll build each layer into a function.  Most of the code you've seen has been outside of functions. To test your code more thoroughly, we require that you put each layer in a function.  This allows us to give you better feedback and test for simple mistakes using our unittests before you submit your project.\n",
    "\n",
    ">**Note:** If you're finding it hard to dedicate enough time for this course each week, we've provided a small shortcut to this part of the project. In the next couple of problems, you'll have the option to use classes from the [TensorFlow Layers](https://www.tensorflow.org/api_docs/python/tf/layers) or [TensorFlow Layers (contrib)](https://www.tensorflow.org/api_guides/python/contrib.layers) packages to build each layer, except the layers you build in the \"Convolutional and Max Pooling Layer\" section.  TF Layers is similar to Keras's and TFLearn's abstraction to layers, so it's easy to pickup.\n",
    "\n",
    ">However, if you would like to get the most out of this course, try to solve all the problems _without_ using anything from the TF Layers packages. You **can** still use classes from other packages that happen to have the same name as ones you find in TF Layers! For example, instead of using the TF Layers version of the `conv2d` class, [tf.layers.conv2d](https://www.tensorflow.org/api_docs/python/tf/layers/conv2d), you would want to use the TF Neural Network version of `conv2d`, [tf.nn.conv2d](https://www.tensorflow.org/api_docs/python/tf/nn/conv2d). \n",
    "\n",
    "Let's begin!\n",
    "\n",
    "### Input\n",
    "The neural network needs to read the image data, one-hot encoded labels, and dropout keep probability. Implement the following functions\n",
    "* Implement `neural_net_image_input`\n",
    " * Return a [TF Placeholder](https://www.tensorflow.org/api_docs/python/tf/placeholder)\n",
    " * Set the shape using `image_shape` with batch size set to `None`.\n",
    " * Name the TensorFlow placeholder \"x\" using the TensorFlow `name` parameter in the [TF Placeholder](https://www.tensorflow.org/api_docs/python/tf/placeholder).\n",
    "* Implement `neural_net_label_input`\n",
    " * Return a [TF Placeholder](https://www.tensorflow.org/api_docs/python/tf/placeholder)\n",
    " * Set the shape using `n_classes` with batch size set to `None`.\n",
    " * Name the TensorFlow placeholder \"y\" using the TensorFlow `name` parameter in the [TF Placeholder](https://www.tensorflow.org/api_docs/python/tf/placeholder).\n",
    "* Implement `neural_net_keep_prob_input`\n",
    " * Return a [TF Placeholder](https://www.tensorflow.org/api_docs/python/tf/placeholder) for dropout keep probability.\n",
    " * Name the TensorFlow placeholder \"keep_prob\" using the TensorFlow `name` parameter in the [TF Placeholder](https://www.tensorflow.org/api_docs/python/tf/placeholder).\n",
    "\n",
    "These names will be used at the end of the project to load your saved model.\n",
    "\n",
    "Note: `None` for shapes in TensorFlow allow for a dynamic size."
   ]
  },
  {
   "cell_type": "code",
   "execution_count": 20,
   "metadata": {},
   "outputs": [
    {
     "name": "stdout",
     "output_type": "stream",
     "text": [
      "Image Input Tests Passed.\n",
      "Label Input Tests Passed.\n",
      "Keep Prob Tests Passed.\n"
     ]
    }
   ],
   "source": [
    "#The following three functions generate tensorflow placeholders.\n",
    "import tensorflow as tf\n",
    "\n",
    "def neural_net_image_input(image_shape):\n",
    "    \"\"\"\n",
    "    image_shape: Shape of the images, type: tuple (e.g. (2,3))\n",
    "    return: a Tensor for a batch of image input\n",
    "    \"\"\"\n",
    "    #output = tf.placeholder(dtype = tf.float32, shape = [None,image_shape[0],image_shape[1],image_shape[2]], name = \"x\")\n",
    "    output = tf.placeholder(dtype = tf.float32, shape = (None,) + image_shape, name = 'x')\n",
    "    return output\n",
    "\n",
    "def neural_net_label_input(n_classes):\n",
    "    \"\"\"\n",
    "    n_classes: Number of classes\n",
    "    return: a Tensor for a batch of label input\n",
    "    \"\"\"\n",
    "    output = tf.placeholder(dtype = tf.float32, shape = (None, n_classes), name = 'y')\n",
    "    return output\n",
    "\n",
    "def neural_net_keep_prob_input():\n",
    "    \"\"\"\n",
    "    return: a Tensor for keep probability.\n",
    "    \"\"\"\n",
    "    output = tf.placeholder(dtype = tf.float32, name = \"keep_prob\")\n",
    "    return output\n",
    "\n",
    "\"\"\"\n",
    "DON'T MODIFY ANYTHING IN THIS CELL THAT IS BELOW THIS LINE\n",
    "\"\"\"\n",
    "tf.reset_default_graph()\n",
    "tests.test_nn_image_inputs(neural_net_image_input)\n",
    "tests.test_nn_label_inputs(neural_net_label_input)\n",
    "tests.test_nn_keep_prob_inputs(neural_net_keep_prob_input)"
   ]
  },
  {
   "cell_type": "markdown",
   "metadata": {},
   "source": [
    "### Convolution and Max Pooling Layer\n",
    "For this code cell, you should implement the function `conv2d_maxpool` to apply convolution then max pooling:\n",
    "* Create the weight and bias using `conv_ksize`, `conv_num_outputs` and the shape of `x_tensor`.\n",
    "* Apply a convolution to `x_tensor` using weight and `conv_strides`.\n",
    " * We recommend you use same padding, but you're welcome to use any padding.\n",
    "* Add bias\n",
    "* Add a nonlinear activation to the convolution.\n",
    "* Apply Max Pooling using `pool_ksize` and `pool_strides`.\n",
    " * We recommend you use same padding, but you're welcome to use any padding.\n",
    "\n",
    "**Note:** You **can't** use [TensorFlow Layers](https://www.tensorflow.org/api_docs/python/tf/layers) or [TensorFlow Layers (contrib)](https://www.tensorflow.org/api_guides/python/contrib.layers) for **this** layer, but you can still use TensorFlow's [Neural Network](https://www.tensorflow.org/api_docs/python/tf/nn) package. You may still use the shortcut option for all the **other** layers."
   ]
  },
  {
   "cell_type": "markdown",
   "metadata": {},
   "source": [
    "In the CNN, the size of feature matrices (i.e. slice of feature volumes) between two layers has the following relationshop:\n",
    "\n",
    "$$new_k = \\frac{(input_k+ 2 P_k - filter_k )}{S_k} + 1,~k\\in\\{height, width\\},$$ \n",
    "\n",
    "where $P_k$ and $S_k$ are the padding and stride sizes, respectively，and usually the same for height and width."
   ]
  },
  {
   "cell_type": "code",
   "execution_count": 21,
   "metadata": {},
   "outputs": [
    {
     "name": "stdout",
     "output_type": "stream",
     "text": [
      "Tests Passed\n"
     ]
    }
   ],
   "source": [
    "#Go from one volume of features to another (i.e. from one tensor to another)\n",
    "def conv2d_maxpool(x_tensor, conv_num_outputs, conv_ksize, conv_strides, pool_ksize, pool_strides):\n",
    "    \"\"\"\n",
    "    Apply convolution then max pooling to x_tensor\n",
    "    x_tensor: TensorFlow Tensor\n",
    "    conv_num_outputs: number of filters for convolving.\n",
    "    conv_ksize: kernel size 2-D Tuple for the convolution\n",
    "    conv_strides: Stride 2-D Tuple for convolution\n",
    "    pool_ksize: kernel size 2-D Tuple for pooling\n",
    "    pool_strides: Stride 2-D Tuple for pooling\n",
    "    return: A tensor after convolution, activation, and max pooling of x_tensor\n",
    "    \"\"\"\n",
    "    depth = x_tensor.get_shape().as_list()[3]\n",
    "    weights = tf.Variable(tf.truncated_normal((conv_ksize[0],conv_ksize[1],depth,conv_num_outputs), stddev = 0.1))\n",
    "    biases = tf.Variable(tf.zeros(conv_num_outputs))\n",
    "    conv_layer = tf.nn.conv2d(input = x_tensor, filter = weights, \n",
    "                               strides = [1, conv_strides[0], conv_strides[1], 1], padding = 'SAME')\n",
    "    conv_layer = tf.nn.bias_add(conv_layer,biases)\n",
    "    conv_layer = tf.nn.relu(conv_layer)\n",
    "    output = tf.nn.max_pool(value = conv_layer, \n",
    "                            ksize = [1, pool_ksize[0], pool_ksize[1], 1],\n",
    "                            strides = [1,pool_strides[0],pool_strides[1],1],\n",
    "                            padding = \"SAME\")\n",
    "    return output\n",
    "\n",
    "\"\"\"\n",
    "DON'T MODIFY ANYTHING IN THIS CELL THAT IS BELOW THIS LINE\n",
    "\"\"\"\n",
    "tests.test_con_pool(conv2d_maxpool)"
   ]
  },
  {
   "cell_type": "markdown",
   "metadata": {},
   "source": [
    "### Flatten Layer\n",
    "Implement the `flatten` function to change the dimension of `x_tensor` from a 4-D tensor to a 2-D tensor.  The output should be the shape (*Batch Size*, *Flattened Image Size*). Shortcut option: you can use classes from the [TensorFlow Layers](https://www.tensorflow.org/api_docs/python/tf/layers) or [TensorFlow Layers (contrib)](https://www.tensorflow.org/api_guides/python/contrib.layers) packages for this layer. For more of a challenge, only use other TensorFlow packages."
   ]
  },
  {
   "cell_type": "code",
   "execution_count": 25,
   "metadata": {},
   "outputs": [
    {
     "name": "stdout",
     "output_type": "stream",
     "text": [
      "Tests Passed\n"
     ]
    }
   ],
   "source": [
    "def flatten(x_tensor):\n",
    "    \"\"\"\n",
    "    Flatten x_tensor to (Batch Size, Flattened Image Size)\n",
    "    x_tensor: A tensor of size (Batch Size, ...), where ... are the image dimensions.\n",
    "    return: A tensor of size (Batch Size, Flattened Image Size).\n",
    "    \"\"\"\n",
    "    # Dimension 1 corresponds to different examples, Dimension 2: height, D3: width, D4: depth\n",
    "    D = x_tensor.get_shape().as_list()\n",
    "    col = D[1]*D[2]*D[3]\n",
    "    output = tf.reshape(x_tensor, [-1, col])\n",
    "    return output\n",
    "\n",
    "\"\"\"\n",
    "DON'T MODIFY ANYTHING IN THIS CELL THAT IS BELOW THIS LINE\n",
    "\"\"\"\n",
    "tests.test_flatten(flatten)"
   ]
  },
  {
   "cell_type": "markdown",
   "metadata": {},
   "source": [
    "### Fully-Connected Layer\n",
    "Implement the `fully_conn` function to apply a fully connected layer to `x_tensor` with the shape (*Batch Size*, *num_outputs*). Shortcut option: you can use classes from the [TensorFlow Layers](https://www.tensorflow.org/api_docs/python/tf/layers) or [TensorFlow Layers (contrib)](https://www.tensorflow.org/api_guides/python/contrib.layers) packages for this layer. For more of a challenge, only use other TensorFlow packages."
   ]
  },
  {
   "cell_type": "code",
   "execution_count": 24,
   "metadata": {},
   "outputs": [
    {
     "name": "stdout",
     "output_type": "stream",
     "text": [
      "Tests Passed\n"
     ]
    }
   ],
   "source": [
    "def fully_conn(x_tensor, num_outputs):\n",
    "    \"\"\"\n",
    "    Apply a fully connected layer to x_tensor using weight and bias\n",
    "    x_tensor: A 2-D tensor where the first dimension is batch size.\n",
    "    num_outputs: The number of output that the new tensor should be.\n",
    "    return: A 2-D tensor where the second dimension is num_outputs.\n",
    "    \"\"\"\n",
    "    weights = tf.Variable(tf.truncated_normal((x_tensor.get_shape().as_list()[1], num_outputs), stddev = 0.1))\n",
    "    biases = tf.Variable(tf.zeros(num_outputs))\n",
    "    \n",
    "    output = tf.add(tf.matmul(x_tensor,weights),biases)\n",
    "    output = tf.nn.relu(output)\n",
    "    return output\n",
    "\"\"\"\n",
    "DON'T MODIFY ANYTHING IN THIS CELL THAT IS BELOW THIS LINE\n",
    "\"\"\"\n",
    "tests.test_fully_conn(fully_conn)"
   ]
  },
  {
   "cell_type": "markdown",
   "metadata": {},
   "source": [
    "### Output Layer\n",
    "Implement the `output` function to apply a fully connected layer to `x_tensor` with the shape (*Batch Size*, *num_outputs*). Shortcut option: you can use classes from the [TensorFlow Layers](https://www.tensorflow.org/api_docs/python/tf/layers) or [TensorFlow Layers (contrib)](https://www.tensorflow.org/api_guides/python/contrib.layers) packages for this layer. For more of a challenge, only use other TensorFlow packages.\n",
    "\n",
    "**Note:** Activation, softmax, or cross entropy should **not** be applied to this."
   ]
  },
  {
   "cell_type": "code",
   "execution_count": 23,
   "metadata": {},
   "outputs": [
    {
     "name": "stdout",
     "output_type": "stream",
     "text": [
      "Tests Passed\n"
     ]
    }
   ],
   "source": [
    "def output(x_tensor, num_outputs):\n",
    "    \"\"\"\n",
    "    Apply a output layer to x_tensor using weight and bias\n",
    "    x_tensor: A 2-D tensor where the first dimension is batch size.\n",
    "    num_outputs: The number of output that the new tensor should be.\n",
    "    return: A 2-D tensor where the second dimension is num_outputs.\n",
    "    \"\"\"\n",
    "    weights = tf.Variable(tf.truncated_normal((x_tensor.get_shape().as_list()[1],num_outputs), stddev = 0.1))\n",
    "    biases = tf.Variable(tf.zeros(num_outputs))\n",
    "    output = tf.add(tf.matmul(x_tensor,weights),biases)\n",
    "    return output\n",
    "\"\"\"\n",
    "DON'T MODIFY ANYTHING IN THIS CELL THAT IS BELOW THIS LINE\n",
    "\"\"\"\n",
    "tests.test_output(output)"
   ]
  },
  {
   "cell_type": "markdown",
   "metadata": {},
   "source": [
    "### Create Convolutional Model\n",
    "Implement the function `conv_net` to create a convolutional neural network model. The function takes in a batch of images, `x`, and outputs logits.  Use the layers you created above to create this model:\n",
    "\n",
    "* Apply 1, 2, or 3 Convolution and Max Pool layers\n",
    "* Apply a Flatten Layer\n",
    "* Apply 1, 2, or 3 Fully Connected Layers\n",
    "* Apply an Output Layer\n",
    "* Return the output\n",
    "* Apply [TensorFlow's Dropout](https://www.tensorflow.org/api_docs/python/tf/nn/dropout) to one or more layers in the model using `keep_prob`. "
   ]
  },
  {
   "cell_type": "code",
   "execution_count": 27,
   "metadata": {},
   "outputs": [
    {
     "name": "stdout",
     "output_type": "stream",
     "text": [
      "Neural Network Built!\n"
     ]
    }
   ],
   "source": [
    "def conv_net(x, keep_prob):\n",
    "    \"\"\"\n",
    "    Create a convolutional neural network model\n",
    "    x: Placeholder tensor that holds image data.\n",
    "    keep_prob: Placeholder tensor that hold dropout keep probability.\n",
    "    return: Tensor that represents logits\n",
    "    \"\"\"\n",
    "    filters = {'1': 32, '2': 64, '3': 128}\n",
    "    conv_ksize = {'1': (5,5), '2': (4,4), '3': (3,3)}; conv_strides = {'1': (1,1), '2': (2,2), '3': (1,1)}\n",
    "    pool_ksize = {'1': (2,2), '2': (2,2), '3': (2,2)}; pool_strides = {'1':(2,2), '2': (2,2), '3': (2,2)}\n",
    "    \n",
    "    conv_layer1 = conv2d_maxpool(x, filters['1'], conv_ksize['1'], conv_strides['1'], \n",
    "                                 pool_ksize['1'], pool_strides['1'])\n",
    "    conv_layer2 = conv2d_maxpool(conv_layer1, filters['2'], conv_ksize['2'], conv_strides['2'], \n",
    "                                 pool_ksize['2'], pool_strides['2'])\n",
    "    conv_layer3 = conv2d_maxpool(conv_layer2, filters['3'], conv_ksize['3'], conv_strides['3'], \n",
    "                                 pool_ksize['3'], pool_strides['3'])\n",
    "\n",
    "    flat_layer = flatten(conv_layer3)\n",
    " \n",
    "    #Create two fully-connected layers\n",
    "    num_outputs = {'1': 1024, '2': 256, '3': 10}\n",
    "    fully_layer = fully_conn(flat_layer, num_outputs['1'])\n",
    "    fully_layer = tf.nn.dropout(fully_layer, keep_prob)\n",
    "\n",
    "    fully_layer = fully_conn(fully_layer, num_outputs['2'])\n",
    "    fully_layer = tf.nn.dropout(fully_layer, keep_prob)\n",
    "    \n",
    "    #Output layer with logit scores as output\n",
    "    out = output(fully_layer, num_outputs['3'])\n",
    "    return out\n",
    "\"\"\"\n",
    "DON'T MODIFY ANYTHING IN THIS CELL THAT IS BELOW THIS LINE\n",
    "\"\"\"\n",
    "##############################\n",
    "## Build the Neural Network ##\n",
    "##############################\n",
    "# Remove previous weights, bias, inputs, etc..\n",
    "tf.reset_default_graph()\n",
    "\n",
    "# Create Inputs Placeholders \n",
    "x = neural_net_image_input((32, 32, 3)) #Shape is (None, 32, 32, 3)\n",
    "y = neural_net_label_input(10)          #Shape is (None, 10)\n",
    "keep_prob = neural_net_keep_prob_input()\n",
    "\n",
    "# Model\n",
    "logits = conv_net(x, keep_prob)\n",
    "# Name logits Tensor, so that it can be loaded from disk after training\n",
    "logits = tf.identity(logits, name='logits')\n",
    "\n",
    "# Loss and Optimizer\n",
    "cost = tf.reduce_mean(tf.nn.softmax_cross_entropy_with_logits(logits=logits, labels=y))\n",
    "optimizer = tf.train.AdamOptimizer().minimize(cost)\n",
    "\n",
    "# Accuracy\n",
    "correct_pred = tf.equal(tf.argmax(logits, 1), tf.argmax(y, 1))\n",
    "accuracy = tf.reduce_mean(tf.cast(correct_pred, tf.float32), name='accuracy')\n",
    "\n",
    "#All the above: cost, optimizer, correct_pred, and accuracy are placeholders, not evaluation !\n",
    "\n",
    "tests.test_conv_net(conv_net)"
   ]
  },
  {
   "cell_type": "markdown",
   "metadata": {},
   "source": [
    "## Train the Neural Network\n",
    "### Single Optimization\n",
    "Implement the function `train_neural_network` to do a single optimization.  The optimization should use `optimizer` to optimize in `session` with a `feed_dict` of the following:\n",
    "* `x` for image input\n",
    "* `y` for labels\n",
    "* `keep_prob` for keep probability for dropout\n",
    "\n",
    "This function will be called for each batch, so `tf.global_variables_initializer()` has already been called.\n",
    "\n",
    "Note: Nothing needs to be returned. This function is only optimizing the neural network."
   ]
  },
  {
   "cell_type": "code",
   "execution_count": 28,
   "metadata": {},
   "outputs": [
    {
     "name": "stdout",
     "output_type": "stream",
     "text": [
      "Tests Passed\n"
     ]
    }
   ],
   "source": [
    "def train_neural_network(session, optimizer, keep_probability, feature_batch, label_batch):\n",
    "    \"\"\"\n",
    "    Optimize the session on a batch of images and labels\n",
    "    session: Current TensorFlow session\n",
    "    optimizer: TensorFlow optimizer function\n",
    "    keep_probability: keep probability\n",
    "    feature_batch: Batch of Numpy image data\n",
    "    label_batch: Batch of Numpy label data\n",
    "    \"\"\"\n",
    "    session.run(optimizer, feed_dict={'x:0': feature_batch, 'y:0': label_batch, 'keep_prob:0': keep_probability})\n",
    "\"\"\"\n",
    "DON'T MODIFY ANYTHING IN THIS CELL THAT IS BELOW THIS LINE\n",
    "\"\"\"\n",
    "tests.test_train_nn(train_neural_network)"
   ]
  },
  {
   "cell_type": "markdown",
   "metadata": {},
   "source": [
    "### Show Stats\n",
    "Implement the function `print_stats` to print loss and validation accuracy.  Use the global variables `valid_features` and `valid_labels` to calculate validation accuracy.  Use a keep probability of `1.0` to calculate the loss and validation accuracy. This is because we use random dropout for training to obtain the weights while avoid overfitting. But in prediction, we would like to make use of all the feature or hidden feature. (computationally, we can still apply dropout)."
   ]
  },
  {
   "cell_type": "code",
   "execution_count": 29,
   "metadata": {
    "collapsed": true
   },
   "outputs": [],
   "source": [
    "def print_stats(session, feature_batch, label_batch, cost, accuracy):\n",
    "    \"\"\"\n",
    "    Print information about loss and validation accuracy\n",
    "    session: Current TensorFlow session\n",
    "    feature_batch: Batch of Numpy image data\n",
    "    label_batch: Batch of Numpy label data\n",
    "    cost: TensorFlow cost function\n",
    "    accuracy: TensorFlow accuracy function\n",
    "    \"\"\"\n",
    "    out1 = session.run(cost, feed_dict = {'x:0': feature_batch, 'y:0': label_batch, 'keep_prob:0': 1})\n",
    "    out2 = session.run(accuracy, feed_dict = {'x:0': feature_batch, 'y:0': label_batch, 'keep_prob:0': 1})\n",
    "    print('Validation Cost: {:.6f}'.format(out1))   \n",
    "    print('Validation Accuracy: {:.6f}'.format(out2))   "
   ]
  },
  {
   "cell_type": "markdown",
   "metadata": {},
   "source": [
    "### Hyperparameters\n",
    "Tune the following parameters:\n",
    "* Set `epochs` to the number of iterations until the network stops learning or start overfitting\n",
    "* Set `batch_size` to the highest number that your machine has memory for.  Most people set them to common sizes of memory: 64, 128, 256, ...\n",
    "* Set `keep_probability` to the probability of keeping a node using dropout"
   ]
  },
  {
   "cell_type": "markdown",
   "metadata": {},
   "source": [
    "### Train on a Single CIFAR-10 Batch\n",
    "Instead of training the neural network on all the CIFAR-10 batches of data, let's use a single batch. This should save time while you iterate on the model to get a better accuracy.  Once the final validation accuracy is 50% or greater, run the model on all the data in the next section."
   ]
  },
  {
   "cell_type": "code",
   "execution_count": 31,
   "metadata": {},
   "outputs": [
    {
     "name": "stdout",
     "output_type": "stream",
     "text": [
      "Checking the Training on a Single Batch...\n",
      "Epoch  1, CIFAR-10 Batch 1:  Validation Cost: 1.954576\n",
      "Validation Accuracy: 0.325000\n",
      "Epoch  2, CIFAR-10 Batch 1:  Validation Cost: 1.634405\n",
      "Validation Accuracy: 0.450000\n",
      "Epoch  3, CIFAR-10 Batch 1:  Validation Cost: 1.255207\n",
      "Validation Accuracy: 0.575000\n",
      "Epoch  4, CIFAR-10 Batch 1:  Validation Cost: 1.053977\n",
      "Validation Accuracy: 0.700000\n",
      "Epoch  5, CIFAR-10 Batch 1:  Validation Cost: 0.805185\n",
      "Validation Accuracy: 0.750000\n",
      "Epoch  6, CIFAR-10 Batch 1:  Validation Cost: 0.694903\n",
      "Validation Accuracy: 0.800000\n",
      "Epoch  7, CIFAR-10 Batch 1:  Validation Cost: 0.528157\n",
      "Validation Accuracy: 0.850000\n",
      "Epoch  8, CIFAR-10 Batch 1:  Validation Cost: 0.398867\n",
      "Validation Accuracy: 0.900000\n",
      "Epoch  9, CIFAR-10 Batch 1:  Validation Cost: 0.279769\n",
      "Validation Accuracy: 0.925000\n",
      "Epoch 10, CIFAR-10 Batch 1:  Validation Cost: 0.314557\n",
      "Validation Accuracy: 0.925000\n"
     ]
    }
   ],
   "source": [
    "# Tune Parameters\n",
    "epochs = 10\n",
    "batch_size = 128\n",
    "keep_probability = 0.75\n",
    "\n",
    "\"\"\"\n",
    "DON'T MODIFY ANYTHING IN THIS CELL\n",
    "\"\"\"\n",
    "print('Checking the Training on a Single Batch...')\n",
    "with tf.Session() as sess:\n",
    "    # Initializing the variables\n",
    "    sess.run(tf.global_variables_initializer())\n",
    "    # Training cycle\n",
    "    for epoch in range(epochs):\n",
    "        batch_i = 1\n",
    "        for batch_features, batch_labels in helper.load_preprocess_training_batch(batch_i, batch_size):\n",
    "            train_neural_network(sess, optimizer, keep_probability, batch_features, batch_labels)\n",
    "        print('Epoch {:>2}, CIFAR-10 Batch {}:  '.format(epoch + 1, batch_i), end='')\n",
    "        print_stats(sess, batch_features, batch_labels, cost, accuracy)"
   ]
  },
  {
   "cell_type": "markdown",
   "metadata": {},
   "source": [
    "### Fully Train the Model\n",
    "Now that you got a good accuracy with a single CIFAR-10 batch, try it with all five batches."
   ]
  },
  {
   "cell_type": "code",
   "execution_count": 32,
   "metadata": {},
   "outputs": [
    {
     "name": "stdout",
     "output_type": "stream",
     "text": [
      "Training...\n",
      "Epoch  1, CIFAR-10 Batch 1:  Validation Cost: 1.909143\n",
      "Validation Accuracy: 0.375000\n",
      "Epoch  1, CIFAR-10 Batch 2:  Validation Cost: 1.601338\n",
      "Validation Accuracy: 0.425000\n",
      "Epoch  1, CIFAR-10 Batch 3:  Validation Cost: 1.354095\n",
      "Validation Accuracy: 0.550000\n",
      "Epoch  1, CIFAR-10 Batch 4:  Validation Cost: 1.386005\n",
      "Validation Accuracy: 0.450000\n",
      "Epoch  1, CIFAR-10 Batch 5:  Validation Cost: 1.436602\n",
      "Validation Accuracy: 0.500000\n",
      "Epoch  2, CIFAR-10 Batch 1:  Validation Cost: 1.481279\n",
      "Validation Accuracy: 0.600000\n",
      "Epoch  2, CIFAR-10 Batch 2:  Validation Cost: 1.082909\n",
      "Validation Accuracy: 0.625000\n",
      "Epoch  2, CIFAR-10 Batch 3:  Validation Cost: 0.959499\n",
      "Validation Accuracy: 0.675000\n",
      "Epoch  2, CIFAR-10 Batch 4:  Validation Cost: 1.090938\n",
      "Validation Accuracy: 0.625000\n",
      "Epoch  2, CIFAR-10 Batch 5:  Validation Cost: 1.108874\n",
      "Validation Accuracy: 0.575000\n",
      "Epoch  3, CIFAR-10 Batch 1:  Validation Cost: 1.065938\n",
      "Validation Accuracy: 0.675000\n",
      "Epoch  3, CIFAR-10 Batch 2:  Validation Cost: 0.800268\n",
      "Validation Accuracy: 0.725000\n",
      "Epoch  3, CIFAR-10 Batch 3:  Validation Cost: 0.794147\n",
      "Validation Accuracy: 0.800000\n",
      "Epoch  3, CIFAR-10 Batch 4:  Validation Cost: 0.824516\n",
      "Validation Accuracy: 0.650000\n",
      "Epoch  3, CIFAR-10 Batch 5:  Validation Cost: 0.882968\n",
      "Validation Accuracy: 0.700000\n",
      "Epoch  4, CIFAR-10 Batch 1:  Validation Cost: 0.869843\n",
      "Validation Accuracy: 0.700000\n",
      "Epoch  4, CIFAR-10 Batch 2:  Validation Cost: 0.585125\n",
      "Validation Accuracy: 0.875000\n",
      "Epoch  4, CIFAR-10 Batch 3:  Validation Cost: 0.562556\n",
      "Validation Accuracy: 0.825000\n",
      "Epoch  4, CIFAR-10 Batch 4:  Validation Cost: 0.565248\n",
      "Validation Accuracy: 0.825000\n",
      "Epoch  4, CIFAR-10 Batch 5:  Validation Cost: 0.600232\n",
      "Validation Accuracy: 0.775000\n",
      "Epoch  5, CIFAR-10 Batch 1:  Validation Cost: 0.641419\n",
      "Validation Accuracy: 0.800000\n",
      "Epoch  5, CIFAR-10 Batch 2:  Validation Cost: 0.419069\n",
      "Validation Accuracy: 0.925000\n",
      "Epoch  5, CIFAR-10 Batch 3:  Validation Cost: 0.459207\n",
      "Validation Accuracy: 0.900000\n",
      "Epoch  5, CIFAR-10 Batch 4:  Validation Cost: 0.413768\n",
      "Validation Accuracy: 0.950000\n",
      "Epoch  5, CIFAR-10 Batch 5:  Validation Cost: 0.449002\n",
      "Validation Accuracy: 0.800000\n",
      "Epoch  6, CIFAR-10 Batch 1:  Validation Cost: 0.480286\n",
      "Validation Accuracy: 0.800000\n",
      "Epoch  6, CIFAR-10 Batch 2:  Validation Cost: 0.367486\n",
      "Validation Accuracy: 0.875000\n",
      "Epoch  6, CIFAR-10 Batch 3:  Validation Cost: 0.348499\n",
      "Validation Accuracy: 0.925000\n",
      "Epoch  6, CIFAR-10 Batch 4:  Validation Cost: 0.373358\n",
      "Validation Accuracy: 0.900000\n",
      "Epoch  6, CIFAR-10 Batch 5:  Validation Cost: 0.379791\n",
      "Validation Accuracy: 0.900000\n",
      "Epoch  7, CIFAR-10 Batch 1:  Validation Cost: 0.436216\n",
      "Validation Accuracy: 0.850000\n",
      "Epoch  7, CIFAR-10 Batch 2:  Validation Cost: 0.359410\n",
      "Validation Accuracy: 0.925000\n",
      "Epoch  7, CIFAR-10 Batch 3:  Validation Cost: 0.214146\n",
      "Validation Accuracy: 1.000000\n",
      "Epoch  7, CIFAR-10 Batch 4:  Validation Cost: 0.271831\n",
      "Validation Accuracy: 0.925000\n",
      "Epoch  7, CIFAR-10 Batch 5:  Validation Cost: 0.288375\n",
      "Validation Accuracy: 0.975000\n",
      "Epoch  8, CIFAR-10 Batch 1:  Validation Cost: 0.311729\n",
      "Validation Accuracy: 0.925000\n",
      "Epoch  8, CIFAR-10 Batch 2:  Validation Cost: 0.288236\n",
      "Validation Accuracy: 0.925000\n",
      "Epoch  8, CIFAR-10 Batch 3:  Validation Cost: 0.190116\n",
      "Validation Accuracy: 1.000000\n",
      "Epoch  8, CIFAR-10 Batch 4:  Validation Cost: 0.215625\n",
      "Validation Accuracy: 0.950000\n",
      "Epoch  8, CIFAR-10 Batch 5:  Validation Cost: 0.292583\n",
      "Validation Accuracy: 0.925000\n",
      "Epoch  9, CIFAR-10 Batch 1:  Validation Cost: 0.284357\n",
      "Validation Accuracy: 0.925000\n",
      "Epoch  9, CIFAR-10 Batch 2:  Validation Cost: 0.216008\n",
      "Validation Accuracy: 0.950000\n",
      "Epoch  9, CIFAR-10 Batch 3:  Validation Cost: 0.116535\n",
      "Validation Accuracy: 1.000000\n",
      "Epoch  9, CIFAR-10 Batch 4:  Validation Cost: 0.222418\n",
      "Validation Accuracy: 0.975000\n",
      "Epoch  9, CIFAR-10 Batch 5:  Validation Cost: 0.237469\n",
      "Validation Accuracy: 0.950000\n",
      "Epoch 10, CIFAR-10 Batch 1:  Validation Cost: 0.246903\n",
      "Validation Accuracy: 0.925000\n",
      "Epoch 10, CIFAR-10 Batch 2:  Validation Cost: 0.161354\n",
      "Validation Accuracy: 0.975000\n",
      "Epoch 10, CIFAR-10 Batch 3:  Validation Cost: 0.095095\n",
      "Validation Accuracy: 1.000000\n",
      "Epoch 10, CIFAR-10 Batch 4:  Validation Cost: 0.175665\n",
      "Validation Accuracy: 0.975000\n",
      "Epoch 10, CIFAR-10 Batch 5:  Validation Cost: 0.166252\n",
      "Validation Accuracy: 0.975000\n"
     ]
    }
   ],
   "source": [
    "\"\"\"\n",
    "DON'T MODIFY ANYTHING IN THIS CELL\n",
    "\"\"\"\n",
    "save_model_path = './image_classification'\n",
    "\n",
    "print('Training...')\n",
    "with tf.Session() as sess:\n",
    "    # Initializing the variables\n",
    "    sess.run(tf.global_variables_initializer())\n",
    "    \n",
    "    # Training cycle\n",
    "    for epoch in range(epochs):\n",
    "        # Loop over all batches\n",
    "        n_batches = 5\n",
    "        for batch_i in range(1, n_batches + 1):\n",
    "            for batch_features, batch_labels in helper.load_preprocess_training_batch(batch_i, batch_size):\n",
    "                train_neural_network(sess, optimizer, keep_probability, batch_features, batch_labels)\n",
    "            print('Epoch {:>2}, CIFAR-10 Batch {}:  '.format(epoch + 1, batch_i), end='')\n",
    "            print_stats(sess, batch_features, batch_labels, cost, accuracy)\n",
    "            \n",
    "    # Save Model\n",
    "    saver = tf.train.Saver()\n",
    "    save_path = saver.save(sess, save_model_path)"
   ]
  },
  {
   "cell_type": "markdown",
   "metadata": {},
   "source": [
    "# Checkpoint\n",
    "The prediction model has been saved to disk.\n",
    "## Test Model\n",
    "Test your model against the test dataset.  This will be your final accuracy. You should have an accuracy greater than 50%. If you don't, keep tweaking the model architecture and parameters."
   ]
  },
  {
   "cell_type": "code",
   "execution_count": 33,
   "metadata": {},
   "outputs": [
    {
     "name": "stdout",
     "output_type": "stream",
     "text": [
      "INFO:tensorflow:Restoring parameters from ./image_classification\n",
      "Testing Accuracy: 0.635185917721519\n",
      "\n"
     ]
    },
    {
     "data": {
      "image/png": "[encoded data removed]",
      "text/plain": [
       "<matplotlib.figure.Figure at 0x23f109179e8>"
      ]
     },
     "metadata": {
      "image/png": {
       "height": 319,
       "width": 355
      }
     },
     "output_type": "display_data"
    }
   ],
   "source": [
    "\"\"\"\n",
    "DON'T MODIFY ANYTHING IN THIS CELL\n",
    "\"\"\"\n",
    "%matplotlib inline\n",
    "%config InlineBackend.figure_format = 'retina'\n",
    "\n",
    "import tensorflow as tf\n",
    "import pickle, helper, random\n",
    "\n",
    "# Set batch size if not already set\n",
    "try:\n",
    "    if batch_size:\n",
    "        pass\n",
    "except NameError:\n",
    "    batch_size = 64\n",
    "\n",
    "save_model_path = './image_classification'\n",
    "n_samples = 4\n",
    "top_n_predictions = 3\n",
    "\n",
    "def test_model():\n",
    "    \"\"\"\n",
    "    Test the saved model against the test dataset\n",
    "    \"\"\"\n",
    "\n",
    "    test_features, test_labels = pickle.load(open('preprocess_test.p', mode='rb'))\n",
    "    loaded_graph = tf.Graph()\n",
    "\n",
    "    with tf.Session(graph=loaded_graph) as sess:\n",
    "        # Load model\n",
    "        loader = tf.train.import_meta_graph(save_model_path + '.meta')\n",
    "        loader.restore(sess, save_model_path)\n",
    "\n",
    "        # Get Tensors from loaded model\n",
    "        loaded_x = loaded_graph.get_tensor_by_name('x:0')\n",
    "        loaded_y = loaded_graph.get_tensor_by_name('y:0')\n",
    "        loaded_keep_prob = loaded_graph.get_tensor_by_name('keep_prob:0')\n",
    "        loaded_logits = loaded_graph.get_tensor_by_name('logits:0')\n",
    "        loaded_acc = loaded_graph.get_tensor_by_name('accuracy:0')\n",
    "        \n",
    "        # Get accuracy in batches for memory limitations\n",
    "        test_batch_acc_total = 0\n",
    "        test_batch_count = 0\n",
    "        \n",
    "        for test_feature_batch, test_label_batch in helper.batch_features_labels(test_features, test_labels, batch_size):\n",
    "            test_batch_acc_total += sess.run(\n",
    "                loaded_acc,\n",
    "                feed_dict={loaded_x: test_feature_batch, loaded_y: test_label_batch, loaded_keep_prob: 1.0})\n",
    "            test_batch_count += 1\n",
    "\n",
    "        print('Testing Accuracy: {}\\n'.format(test_batch_acc_total/test_batch_count))\n",
    "\n",
    "        # Print Random Samples\n",
    "        random_test_features, random_test_labels = tuple(zip(*random.sample(list(zip(test_features, test_labels)), n_samples)))\n",
    "        random_test_predictions = sess.run(\n",
    "            tf.nn.top_k(tf.nn.softmax(loaded_logits), top_n_predictions),\n",
    "            feed_dict={loaded_x: random_test_features, loaded_y: random_test_labels, loaded_keep_prob: 1.0})\n",
    "        helper.display_image_predictions(random_test_features, random_test_labels, random_test_predictions)\n",
    "\n",
    "\n",
    "test_model()"
   ]
  },
  {
   "cell_type": "markdown",
   "metadata": {},
   "source": [
    "## Why 50-80% Accuracy?\n",
    "You might be wondering why you can't get an accuracy any higher. First things first, 50% isn't bad for a simple CNN.  Pure guessing would get you 10% accuracy. However, you might notice people are getting scores [well above 80%](http://rodrigob.github.io/are_we_there_yet/build/classification_datasets_results.html#43494641522d3130).  That's because we haven't taught you all there is to know about neural networks. We still need to cover a few more techniques.\n",
    "## Submitting This Project\n",
    "When submitting this project, make sure to run all the cells before saving the notebook.  Save the notebook file as \"dlnd_image_classification.ipynb\" and save it as a HTML file under \"File\" -> \"Download as\".  Include the \"helper.py\" and \"problem_unittests.py\" files in your submission."
   ]
  }
 ],
 "metadata": {
  "kernelspec": {
   "display_name": "Python 3",
   "language": "python",
   "name": "python3"
  },
  "language_info": {
   "codemirror_mode": {
    "name": "ipython",
    "version": 3
   },
   "file_extension": ".py",
   "mimetype": "text/x-python",
   "name": "python",
   "nbconvert_exporter": "python",
   "pygments_lexer": "ipython3",
   "version": "3.6.1"
  }
 },
 "nbformat": 4,
 "nbformat_minor": 1
}
